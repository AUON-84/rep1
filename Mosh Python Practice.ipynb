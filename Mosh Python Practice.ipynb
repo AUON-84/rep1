{
 "cells": [
  {
   "cell_type": "markdown",
   "metadata": {},
   "source": [
    "#My attempt\n",
    "\n",
    "weight_in = int(input(\"Weight: \"))\n",
    "unit = input(\"(L)bs or (K)g: \")\n",
    "\n",
    "if unit.upper() == \"L\":\n",
    "    weight_out = weight_in*0.453592\n",
    "    print(f\"You are {weight_out} kilograms\")\n",
    "    \n",
    "elif unit.upper() == \"K\":\n",
    "    weight_out = weight_in*2.2\n",
    "    print(f\"You are {weight_out} pounds\")\n",
    "\n",
    "else:\n",
    "    print(f\"Invalid Unit has been entered\")"
   ]
  },
  {
   "cell_type": "markdown",
   "metadata": {},
   "source": [
    "#Mosh's answer\n",
    "\n",
    "weight_in = int(input(\"Weight: \"))\n",
    "unit = input(\"(L)bs or (K)g: \")\n",
    "\n",
    "if unit.upper() == \"L\":\n",
    "    weight_out = weight_in*0.453592\n",
    "    print(f\"You are {weight_out} kilograms\")\n",
    "    \n",
    "else:\n",
    "    weight_out = weight_in/0.45\n",
    "    print(f\"You are {weight_out} pounds\")"
   ]
  },
  {
   "cell_type": "markdown",
   "metadata": {},
   "source": [
    "has_good_credit = True\n",
    "has_criminal_record = False\n",
    "\n",
    "if has_good_credit and not has_criminal_record:\n",
    "    print(\"Eligible for a loan\")\n"
   ]
  },
  {
   "cell_type": "markdown",
   "metadata": {},
   "source": [
    "name = input(\"Name: \")\n",
    "\n",
    "if len(name) < 3:\n",
    "    print(\"Name inserted must have at least 3 characters\")\n",
    "elif len(name) > 50:\n",
    "    print(\"Name inserted must have less than 50 characters\")\n",
    "else:\n",
    "    print(\"Name looks good\")"
   ]
  },
  {
   "cell_type": "markdown",
   "metadata": {},
   "source": [
    "secret_number = 9\n",
    "guess_count = 0\n",
    "guess_limit = 3\n",
    "\n",
    "while guess_count < guess_limit:\n",
    "    guess = int(input(\"Guess: \"))\n",
    "    guess_count += 1\n",
    "    if guess == secret_number:\n",
    "        print(\"You're correct!\")\n",
    "        break\n",
    "else:\n",
    "    print(\"You are wrong and out of guesses\")\n",
    "        "
   ]
  },
  {
   "cell_type": "markdown",
   "metadata": {},
   "source": [
    "cmd = input(\"\")\n",
    "\n",
    "if cmd.lower() == \"start\":\n",
    "    print(\"Car started and Ready to go!\")\n",
    "elif cmd.lower() == \"stop\":\n",
    "    print(\"Car has stopped.\")\n",
    "elif cmd.lower() == \"help\":\n",
    "    print(\"\"\"\n",
    "    start - to start the car\n",
    "    stop - to stop the car\n",
    "    quit - to exit\n",
    "    \"\"\")\n",
    "else:\n",
    "    print(\"I dont understand that.\")\n"
   ]
  },
  {
   "cell_type": "markdown",
   "metadata": {},
   "source": [
    "cmd = \"\"\n",
    "started = False\n",
    "\n",
    "while True:\n",
    "    cmd = input(\"> \").lower()\n",
    "    if cmd == \"start\":\n",
    "        if started:\n",
    "            print(\"Car is already started...\")\n",
    "        else:\n",
    "            started = True\n",
    "            print(\"Car is started...\")\n",
    "    elif cmd == \"stop\":\n",
    "        if not started:\n",
    "            print(\"Car is already stopped...\")\n",
    "        else:\n",
    "            started = False\n",
    "            print(\"Car has stopped.\")\n",
    "    elif cmd == \"help\":\n",
    "        print(\"\"\"\n",
    "start - to start the car\n",
    "stop - to stop the car\n",
    "quit - to quit\n",
    "        \"\"\")\n",
    "    elif cmd == \"quit\":\n",
    "        break\n",
    "    else:\n",
    "        print(\"Sorry i don't understand that\")\n"
   ]
  },
  {
   "cell_type": "code",
   "execution_count": 7,
   "metadata": {},
   "outputs": [
    {
     "name": "stdout",
     "output_type": "stream",
     "text": [
      "60\n"
     ]
    }
   ],
   "source": [
    "price = [10, 20, 30]\n",
    "total = 0\n",
    "\n",
    "for item in price:\n",
    "    total += item\n",
    "\n",
    "print(total)"
   ]
  },
  {
   "cell_type": "code",
   "execution_count": 31,
   "metadata": {},
   "outputs": [
    {
     "name": "stdout",
     "output_type": "stream",
     "text": [
      "(0, 0)\n",
      "(0, 1)\n",
      "(0, 2)\n",
      "(1, 0)\n",
      "(1, 1)\n",
      "(1, 2)\n",
      "(2, 0)\n",
      "(2, 1)\n",
      "(2, 2)\n"
     ]
    }
   ],
   "source": [
    "for x in range(3):\n",
    "    for y in range(3):\n",
    "        print(f\"{x,y}\")\n",
    "    "
   ]
  },
  {
   "cell_type": "code",
   "execution_count": 55,
   "metadata": {},
   "outputs": [
    {
     "name": "stdout",
     "output_type": "stream",
     "text": [
      "XXXXX\n",
      "XX\n",
      "XXXXX\n",
      "XX\n",
      "XX\n",
      "\n",
      "xx\n",
      "xx\n",
      "xx\n",
      "xx\n",
      "xxxxx\n"
     ]
    }
   ],
   "source": [
    "#Write a program that uses Xs to print out alphabets (F and L in this case)\n",
    "#My attempt\n",
    "shape= [5,2,5,2,2]\n",
    "\n",
    "for i in shape:\n",
    "    print(i*\"X\")\n",
    "    \n",
    "print(\"\")\n",
    "\n",
    "\n",
    "#Mosh's solution (using nested for loops)\n",
    "numbers = [2,2,2,2,5]\n",
    "\n",
    "for x_count in numbers:\n",
    "    output = \"\"\n",
    "    for count in range(x_count):\n",
    "        output += \"x\"\n",
    "    print(output)    \n",
    "        "
   ]
  },
  {
   "cell_type": "code",
   "execution_count": 54,
   "metadata": {},
   "outputs": [
    {
     "name": "stdout",
     "output_type": "stream",
     "text": [
      "8\n"
     ]
    }
   ],
   "source": [
    "#Write a program that detects the largest number in a list\n",
    "\n",
    "#My attempt\n",
    "list= [0,2,3,4,5,8,6,1,7]\n",
    "for num in list:\n",
    "    greatest = list[0]\n",
    "    if num>greatest:\n",
    "        greatest = num\n",
    "    else:\n",
    "        break\n",
    "        print(greatest)\n",
    "\n",
    "#Mosh's solution\n",
    "numbers = [0,2,3,4,5,8,6,1,7]\n",
    "max = numbers[0]\n",
    "for num in numbers:\n",
    "    if num>max:\n",
    "        max= num\n",
    "print(max)"
   ]
  },
  {
   "cell_type": "code",
   "execution_count": 57,
   "metadata": {},
   "outputs": [
    {
     "name": "stdout",
     "output_type": "stream",
     "text": [
      "1\n",
      "2\n",
      "3\n",
      "4\n",
      "5\n",
      "6\n",
      "7\n",
      "8\n",
      "9\n"
     ]
    }
   ],
   "source": [
    "matrix = [\n",
    "    [1,2,3],\n",
    "    [4,5,6],\n",
    "    [7,8,9]\n",
    "]\n",
    "\n",
    "for row in matrix:\n",
    "    for item in row:\n",
    "        print(item)\n",
    "       "
   ]
  },
  {
   "cell_type": "code",
   "execution_count": 62,
   "metadata": {},
   "outputs": [
    {
     "name": "stdout",
     "output_type": "stream",
     "text": [
      "[5, 3, 1, 7, 4, 20]\n",
      "[10, 3, 1, 7, 4, 20]\n"
     ]
    }
   ],
   "source": [
    "#Mosh list methods \n",
    "numbers = [5,3,1,7,4]\n",
    "numbers.append(20)\n",
    "print(numbers)\n",
    "\n",
    "#method.insert collects the index position and item (in that order) you want to add to a list\n",
    "#here you're adding 10 to index position 0\n",
    "numbers.insert(0,10)\n",
    "\n",
    "#method.remove will take out the item from the list\n",
    "numbers.remove(5)\n",
    "\n",
    "#method.clear() doesn't take any values and will clear all the items in a list\n",
    "#method.pop() will remove the last item in a list. So it's like the opposite of the append method\n",
    "#method.index() will return the index of the first occurence of the item you're looking for. If you print this it will give you the index position.\n",
    "#another way to find something is to use the in-operator (it could be an integer or even a string. If you type print(50 in numbers) you will get a Boolean value stating whether it is there\n",
    "#the in-operator is prefered because it doesn't produce an error while the index method could\n",
    "#method.sort() puts your list in ascending order. You can then go ahead and print the aforementioned list if you need to\n",
    "#method.reverse() will reverse our list. So if you have a regular list it is reversed, and if you have a sorted list it will be put in descending order.\n",
    "#method.copy() produces a copy of the list. We can create a second list that is independent of any changes made to the first list\n",
    "\n",
    "\n",
    "print(numbers)"
   ]
  },
  {
   "cell_type": "code",
   "execution_count": 87,
   "metadata": {},
   "outputs": [
    {
     "name": "stdout",
     "output_type": "stream",
     "text": [
      "[2, 3, 8, 1, 6, 9, 4, 2, 5, 7, 0]\n",
      "[2, 4, 6, 3, 1]\n"
     ]
    }
   ],
   "source": [
    "#Write a program that removes the duplicates in a list\n",
    "\n",
    "#My attempt\n",
    "list = [1,2,3,4,5,6,2,3,6,8,1,6,9,4,2,5,7,0]\n",
    "#list.count(1)\n",
    "#list.remove(1)\n",
    "for num in list:\n",
    "    if list.count(num)>1:\n",
    "            list.remove(num)\n",
    "print(list)\n",
    "\n",
    "\n",
    "#Mosh's solution\n",
    "numbers = [2,2,4,6,3,4,6,1]\n",
    "uniques = []\n",
    "for number in numbers:\n",
    "    if number not in uniques:\n",
    "        uniques.append(number)\n",
    "print(uniques)\n",
    "\n",
    "#My version works but it gets rid of the original list that we had. #For some reason my version doesn't work with the number 2.\n",
    "#Mosh's solution creates a new list so you have access to that as well as the list you started with.\n",
    "#Takeaway here would be to remember that you can create empty list and to familiarize yourself with the \"in\" and the \"not\" operators"
   ]
  },
  {
   "cell_type": "code",
   "execution_count": 88,
   "metadata": {},
   "outputs": [],
   "source": [
    "# When working with tuples you can assign each item to a value and write cleaner code\n",
    "\n",
    "coordinates = (1,2,3)\n",
    "x = coordinates[0]\n",
    "y = coordinates[1]\n",
    "z = coordinates[2]\n",
    "x,y,z = coordinates\n",
    "#The line above easily does the function of the previous 3 lines of code\n",
    "#This isn't exclusive to tuples and can also be done with lists"
   ]
  },
  {
   "cell_type": "code",
   "execution_count": 108,
   "metadata": {},
   "outputs": [],
   "source": [
    "customer = {\n",
    "    \"name\": \"John Smith\",\n",
    "    \"age\": 30,\n",
    "    \"is_verified\": True\n",
    "}"
   ]
  },
  {
   "cell_type": "code",
   "execution_count": null,
   "metadata": {},
   "outputs": [],
   "source": [
    "#When working with dictionaries there are a few methods we can use\n",
    "\n",
    "#Method.get() will retrieve the value associated with a key. The difference is that you won't get an error message if it doesn't exist\n",
    "#The format would be method.get(\"keyvalue\", \"defaultvaluetoreturn\")\n",
    "#With the get method you can also assign a default variable to be given to you if it doesn't work\n",
    "#You can call values in dictionaries using similar format you would with list except you use their keys instead of their indices"
   ]
  },
  {
   "cell_type": "code",
   "execution_count": 109,
   "metadata": {},
   "outputs": [
    {
     "name": "stdout",
     "output_type": "stream",
     "text": [
      "123\n",
      "one\n",
      "two\n",
      "three\n",
      "Phone: 45678987654\n",
      "four ! ! ! ! ! ! ! ! ! four \n"
     ]
    }
   ],
   "source": [
    "numconv = {\n",
    "    \"1\": \"one\",\n",
    "    \"2\": \"two\",\n",
    "    \"3\": \"three\",\n",
    "    \"4\": \"four\",\n",
    "    \"5\": \"five\",\n",
    "    \"6\": \"six\",\n",
    "    \"7\": \"seven\",\n",
    "    \"8\": \"eight\",\n",
    "    \"9\": \"nine\",\n",
    "    \"0\": \"zero\"\n",
    "}\n",
    "\n",
    "num = input(\"\")\n",
    "for each in num:\n",
    "    print(numconv[each])\n",
    "    \n",
    "\n",
    "\n",
    "#Mosh's solution\n",
    "\n",
    "phone = input(\"Phone: \")\n",
    "digits_mapping = {\n",
    "    \"1\": \"one\",\n",
    "    \"2\": \"two\",\n",
    "    \"3\": \"three\",\n",
    "    \"4\": \"four\"\n",
    "}\n",
    "output = \"\"\n",
    "for ch in phone:\n",
    "    output += digits_mapping.get(ch, \"!\") + \" \"\n",
    "print(output)"
   ]
  },
  {
   "cell_type": "code",
   "execution_count": 143,
   "metadata": {},
   "outputs": [],
   "source": [
    "def greet_user(first_name, last_name):\n",
    "    print(f\"Hi {first_name} {last_name}!\")\n",
    "    print(\"Happy 27th Wedding Anniversary\")\n",
    "    print(\"You have such a clever son, right?\")\n",
    "    \n"
   ]
  },
  {
   "cell_type": "code",
   "execution_count": 145,
   "metadata": {},
   "outputs": [
    {
     "name": "stdout",
     "output_type": "stream",
     "text": [
      "Hi Nick Opara!\n",
      "Happy 27th Wedding Anniversary\n",
      "You have such a clever son, right?\n",
      "Hi Ezii Opara!\n",
      "Happy 27th Wedding Anniversary\n",
      "You have such a clever son, right?\n"
     ]
    }
   ],
   "source": [
    "greet_user(\"Nick\", \"Opara\")\n",
    "greet_user(\"Ezii\", \"Opara\")"
   ]
  },
  {
   "cell_type": "markdown",
   "metadata": {},
   "source": [
    "#The Return Statement\n",
    "#This is used when defining a function to return values to the callers of our functions\n",
    "\n",
    "def square(num):\n",
    "    return num*num\n",
    "    \n",
    "#If we call the function we made just now eg square(3) it will return a value just like the input fx of python.\n",
    "#And we can get it and store it in a variable like so:\n",
    "\n",
    "#name = input()\n",
    "#result = square(3)\n",
    "\n",
    "#Now we can print it on the terminal like so:\n",
    "result = square(3)\n",
    "print(result)\n",
    "\n",
    "However we can also pas the fx directly into the print fx w/o defining a new variable, like so:\n",
    "print(square(3))\n",
    "This is useful as it helps us write shorter code.\n",
    "\n",
    "By default ALL fxs in python return the value \"None\" and it will likely show up if you make the mistake of not using the return fx when you define your fx.\n",
    "\n",
    "As a general rule of thumb, your fx shouldn't worry about receiveing input and printing it"
   ]
  },
  {
   "cell_type": "markdown",
   "metadata": {},
   "source": [
    "#EMOJI CONVERTER\n",
    "\n",
    "message = input(\">\")\n",
    "words = message.split(\" \")\n",
    "emojis = {\n",
    "    \":)\": \"😊\",\n",
    "    \":(\": \"😔\"\n",
    "}\n",
    "output = \"\"\n",
    "for word in words:\n",
    "    output += emojis.get(word, word) + \" \"\n",
    "print(output)\n",
    "\n",
    "#To improve the emoji converter we removed the only relevant lines of code (excl input and print functions) and defined a new function as seen in the next block"
   ]
  },
  {
   "cell_type": "code",
   "execution_count": 7,
   "metadata": {},
   "outputs": [
    {
     "name": "stdout",
     "output_type": "stream",
     "text": [
      ">I'm sad :(\n",
      "I'm sad 😔 \n"
     ]
    }
   ],
   "source": [
    "def emoji_converter(message):\n",
    "    words = message.split(\" \")\n",
    "    emojis = {\n",
    "        \":)\": \"😊\",\n",
    "        \":(\": \"😔\"\n",
    "    }\n",
    "    output = \"\"\n",
    "    for word in words:\n",
    "        output += emojis.get(word, word) + \" \"\n",
    "    return output\n",
    "\n",
    "\n",
    "message = input(\">\")\n",
    "print(emoji_converter(message))"
   ]
  },
  {
   "cell_type": "code",
   "execution_count": 10,
   "metadata": {},
   "outputs": [
    {
     "name": "stdout",
     "output_type": "stream",
     "text": [
      "Age: 0\n",
      "Age cannot be 0\n"
     ]
    }
   ],
   "source": [
    "try:\n",
    "    age = int(input(\"Age: \"))\n",
    "    income = 20000\n",
    "    risk = income/age\n",
    "    print(age)\n",
    "except ZeroDivisionError:\n",
    "    print(\"Age cannot be 0\")\n",
    "except ValueError:\n",
    "    print(\"Invalid Value\")"
   ]
  },
  {
   "cell_type": "code",
   "execution_count": null,
   "metadata": {},
   "outputs": [],
   "source": []
  },
  {
   "cell_type": "code",
   "execution_count": null,
   "metadata": {},
   "outputs": [],
   "source": []
  }
 ],
 "metadata": {
  "kernelspec": {
   "display_name": "Python 3",
   "language": "python",
   "name": "python3"
  },
  "language_info": {
   "codemirror_mode": {
    "name": "ipython",
    "version": 3
   },
   "file_extension": ".py",
   "mimetype": "text/x-python",
   "name": "python",
   "nbconvert_exporter": "python",
   "pygments_lexer": "ipython3",
   "version": "3.8.5"
  }
 },
 "nbformat": 4,
 "nbformat_minor": 4
}
