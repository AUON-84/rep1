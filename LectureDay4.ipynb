{
 "cells": [
  {
   "cell_type": "markdown",
   "source": [
    "## Functions"
   ],
   "metadata": {}
  },
  {
   "cell_type": "code",
   "execution_count": 17,
   "source": [
    "def printname(f_name = \"Unknown user\"):\r\n",
    "    mssg = \"My name is %s.\" %name\r\n",
    "    \r\n",
    "    return mssg\r\n",
    "\r\n",
    "\r\n",
    "name = printname(\"Ayo\")\r\n"
   ],
   "outputs": [],
   "metadata": {}
  },
  {
   "cell_type": "code",
   "execution_count": 6,
   "source": [
    "name"
   ],
   "outputs": [
    {
     "output_type": "execute_result",
     "data": {
      "text/plain": [
       "'My name is Ayo'"
      ]
     },
     "metadata": {},
     "execution_count": 6
    }
   ],
   "metadata": {}
  },
  {
   "cell_type": "code",
   "execution_count": 18,
   "source": [
    "def agecalc(year = 1):\r\n",
    "    \"\"\"\r\n",
    "    year is the year of birth of the user\r\n",
    "    current year is specified to be 2021\r\n",
    "    \"\"\"\r\n",
    "    curr_year = 2021\r\n",
    "    age = curr_year - year\r\n",
    "    age = str(age)\r\n",
    "    mssg = \"I am currently %s years old\" %age\r\n",
    "\r\n",
    "    return mssg\r\n"
   ],
   "outputs": [],
   "metadata": {}
  },
  {
   "cell_type": "code",
   "execution_count": 12,
   "source": [
    "age_ = agecalc(1988)"
   ],
   "outputs": [],
   "metadata": {}
  },
  {
   "cell_type": "code",
   "execution_count": 9,
   "source": [
    "age_"
   ],
   "outputs": [
    {
     "output_type": "execute_result",
     "data": {
      "text/plain": [
       "33"
      ]
     },
     "metadata": {},
     "execution_count": 9
    }
   ],
   "metadata": {}
  },
  {
   "cell_type": "markdown",
   "source": [
    "## Calling the function"
   ],
   "metadata": {}
  },
  {
   "cell_type": "code",
   "execution_count": 20,
   "source": [
    "about = printname(\"Bethel\") + \" \" + agecalc(1995)\r\n",
    "about"
   ],
   "outputs": [
    {
     "output_type": "execute_result",
     "data": {
      "text/plain": [
       "'My name is Bethel. I am currently 26 years old'"
      ]
     },
     "metadata": {},
     "execution_count": 20
    }
   ],
   "metadata": {}
  },
  {
   "cell_type": "markdown",
   "source": [
    "## Multiple arguments"
   ],
   "metadata": {}
  },
  {
   "cell_type": "code",
   "execution_count": 21,
   "source": [
    "def fullname(f_name = \"First Name\", l_name = \"Last Name\"):\r\n",
    "    mssg = \"My name is %s %s.\" %(f_name, l_name) \r\n",
    "    \r\n",
    "    return mssg\r\n"
   ],
   "outputs": [],
   "metadata": {}
  },
  {
   "cell_type": "code",
   "execution_count": 23,
   "source": [
    "def agecalc_(year = 1, gender = \"Male or Female\"):\r\n",
    "    \"\"\"\r\n",
    "    year is the year of birth of the user\r\n",
    "    current year is specified to be 2021\r\n",
    "    \"\"\"\r\n",
    "    curr_year = 2021\r\n",
    "    age = curr_year - year\r\n",
    "    age = str(age)\r\n",
    "    year = str(year)\r\n",
    "    mssg = \"I am %s and my current age is %s because I was born in year %s\" %(gender, age, year)\r\n",
    "\r\n",
    "    return mssg"
   ],
   "outputs": [],
   "metadata": {}
  },
  {
   "cell_type": "code",
   "execution_count": 24,
   "source": [
    "details = fullname(\"John\", \"Doe\") + \" \" + agecalc_(1960, \"Male\")\r\n",
    "details"
   ],
   "outputs": [
    {
     "output_type": "execute_result",
     "data": {
      "text/plain": [
       "'My name is John Doe. I am Male and my current age is 61 because I was born in year 1960'"
      ]
     },
     "metadata": {},
     "execution_count": 24
    }
   ],
   "metadata": {}
  },
  {
   "cell_type": "code",
   "execution_count": null,
   "source": [],
   "outputs": [],
   "metadata": {}
  }
 ],
 "metadata": {
  "orig_nbformat": 4,
  "language_info": {
   "name": "python",
   "version": "3.9.2",
   "mimetype": "text/x-python",
   "codemirror_mode": {
    "name": "ipython",
    "version": 3
   },
   "pygments_lexer": "ipython3",
   "nbconvert_exporter": "python",
   "file_extension": ".py"
  },
  "kernelspec": {
   "name": "python3",
   "display_name": "Python 3.9.2 64-bit"
  },
  "interpreter": {
   "hash": "63fd5069d213b44bf678585dea6b12cceca9941eaf7f819626cde1f2670de90d"
  }
 },
 "nbformat": 4,
 "nbformat_minor": 2
}