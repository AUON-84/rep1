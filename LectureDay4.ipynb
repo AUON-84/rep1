{
 "cells": [
  {
   "cell_type": "markdown",
   "metadata": {},
   "source": [
    "## Functions"
   ]
  },
  {
   "cell_type": "code",
   "execution_count": 17,
   "metadata": {},
   "outputs": [],
   "source": [
    "def printname(f_name = \"Unknown user\"):\n",
    "    mssg = \"My name is %s.\" %name\n",
    "    \n",
    "    return mssg\n",
    "\n",
    "name = printname(\"Ayo\")\n"
   ]
  },
  {
   "cell_type": "code",
   "execution_count": 6,
   "metadata": {},
   "outputs": [
    {
     "data": {
      "text/plain": [
       "'My name is Ayo'"
      ]
     },
     "execution_count": 6,
     "metadata": {},
     "output_type": "execute_result"
    }
   ],
   "source": [
    "name"
   ]
  },
  {
   "cell_type": "code",
   "execution_count": 18,
   "metadata": {},
   "outputs": [],
   "source": [
    "def agecalc(year = 1):\n",
    "    \"\"\"\n",
    "    year is the year of birth of the user\n",
    "    current year is specified to be 2021\n",
    "    \"\"\"\n",
    "    curr_year = 2021\n",
    "    age = curr_year - year\n",
    "    age = str(age)\n",
    "    mssg = \"I am currently %s years old\" %age\n",
    "\n",
    "    return mssg\n"
   ]
  },
  {
   "cell_type": "code",
   "execution_count": 12,
   "metadata": {},
   "outputs": [],
   "source": [
    "age_ = agecalc(1988)"
   ]
  },
  {
   "cell_type": "code",
   "execution_count": 9,
   "metadata": {},
   "outputs": [
    {
     "data": {
      "text/plain": [
       "33"
      ]
     },
     "execution_count": 9,
     "metadata": {},
     "output_type": "execute_result"
    }
   ],
   "source": [
    "age_"
   ]
  },
  {
   "cell_type": "markdown",
   "metadata": {},
   "source": [
    "## Calling the function"
   ]
  },
  {
   "cell_type": "code",
   "execution_count": 20,
   "metadata": {},
   "outputs": [
    {
     "data": {
      "text/plain": [
       "'My name is Bethel. I am currently 26 years old'"
      ]
     },
     "execution_count": 20,
     "metadata": {},
     "output_type": "execute_result"
    }
   ],
   "source": [
    "about = printname(\"Bethel\") + \" \" + agecalc(1995)\n",
    "about"
   ]
  },
  {
   "cell_type": "markdown",
   "metadata": {},
   "source": [
    "## Multiple arguments"
   ]
  },
  {
   "cell_type": "code",
   "execution_count": 21,
   "metadata": {},
   "outputs": [],
   "source": [
    "def fullname(f_name = \"First Name\", l_name = \"Last Name\"):\n",
    "    mssg = \"My name is %s %s.\" %(f_name, l_name) \n",
    "    \n",
    "    return mssg\n"
   ]
  },
  {
   "cell_type": "code",
   "execution_count": 23,
   "metadata": {},
   "outputs": [],
   "source": [
    "def agecalc_(year = 1, gender = \"Male or Female\"):\n",
    "    \"\"\"\n",
    "    year is the year of birth of the user\n",
    "    current year is specified to be 2021\n",
    "    \"\"\"\n",
    "    curr_year = 2021\n",
    "    age = curr_year - year\n",
    "    age = str(age)\n",
    "    year = str(year)\n",
    "    mssg = \"I am %s and my current age is %s because I was born in year %s\" %(gender, age, year)\n",
    "\n",
    "    return mssg"
   ]
  },
  {
   "cell_type": "code",
   "execution_count": 24,
   "metadata": {},
   "outputs": [
    {
     "data": {
      "text/plain": [
       "'My name is John Doe. I am Male and my current age is 61 because I was born in year 1960'"
      ]
     },
     "execution_count": 24,
     "metadata": {},
     "output_type": "execute_result"
    }
   ],
   "source": [
    "details = fullname(\"John\", \"Doe\") + \" \" + agecalc_(1960, \"Male\")\n",
    "details"
   ]
  },
  {
   "cell_type": "markdown",
   "metadata": {},
   "source": [
    "## Arbitrary arguments"
   ]
  },
  {
   "cell_type": "code",
   "execution_count": 9,
   "metadata": {},
   "outputs": [],
   "source": [
    "def getnames(*names):\n",
    "    dat_type = type(names)\n",
    "    count_ = len(names)\n",
    "    count_ = str(count_)\n",
    "    mssg = \"There are %s names in the item and the second name is %s\" %(count_, names[1])\n",
    "    print(mssg)\n",
    "    print(dat_type)"
   ]
  },
  {
   "cell_type": "code",
   "execution_count": 10,
   "metadata": {},
   "outputs": [
    {
     "name": "stdout",
     "output_type": "stream",
     "text": [
      "There are 4 names in the item and the second name is Tobin\n",
      "<class 'tuple'>\n"
     ]
    }
   ],
   "source": [
    "getnames(\"Tolu\", \"Tobin\", \"Sheun\", \"Arnold\")"
   ]
  },
  {
   "cell_type": "code",
   "execution_count": 17,
   "metadata": {},
   "outputs": [
    {
     "name": "stdout",
     "output_type": "stream",
     "text": [
      "<class 'tuple'>\n"
     ]
    }
   ],
   "source": [
    "def argmulti(**args):\n",
    "    items = [i for i in args.items()]\n",
    "    print(type(items[1]))\n",
    "\n",
    "argmulti(name = \"Kamal\", class_ = \"B\", colour = \"Blue\")"
   ]
  },
  {
   "cell_type": "code",
   "execution_count": 18,
   "metadata": {},
   "outputs": [],
   "source": [
    "def evalscore(*record):\n",
    "    name = record[0]\n",
    "    scores = record[1:]\n",
    "    total = sum(scores)\n",
    "    no_sub = len(scores)\n",
    "    avg = total / no_sub\n",
    "    if avg > 70:\n",
    "        outmssg = \"Distinction\"\n",
    "    elif avg < 70 and avg > 59:\n",
    "        outmssg = \"Very good\"\n",
    "    elif avg < 60 and avg > 49:\n",
    "        outmssg = \"Pass\"\n",
    "    else:\n",
    "        outmssg = \"Fail\"\n",
    "    \n",
    "    finmssg = \"The average score of %s is evaluated to be %f with a %s\" %(name, avg, outmssg)\n",
    "\n",
    "    print(finmssg)\n"
   ]
  },
  {
   "cell_type": "code",
   "execution_count": 20,
   "metadata": {},
   "outputs": [
    {
     "name": "stdout",
     "output_type": "stream",
     "text": [
      "The average score of Ade is evaluated to be 74.220000 with a Distinction\n"
     ]
    }
   ],
   "source": [
    "evalscore(\"Ade\", 59.5, 76.6, 94, 65.0, 76)"
   ]
  },
  {
   "cell_type": "code",
   "execution_count": 30,
   "metadata": {},
   "outputs": [],
   "source": [
    "std1 = [\"John\", 67, 45, 76, 98]\n",
    "std2 = [\"Peter\", 56, 87, 98]\n",
    "std3 = [\"Sheyi\", 78, 65, 98, 67, 89.5]\n",
    "students_records = [std1, std2, std3]\n"
   ]
  },
  {
   "cell_type": "code",
   "execution_count": 28,
   "metadata": {},
   "outputs": [],
   "source": [
    "def evalscore_(record):\n",
    "    name = record[0]\n",
    "    scores = record[1:]\n",
    "    total = sum(scores)\n",
    "    no_sub = len(scores)\n",
    "    avg = total / no_sub\n",
    "    if avg > 70:\n",
    "        outmssg = \"Distinction\"\n",
    "    elif avg < 70 and avg > 59:\n",
    "        outmssg = \"Very good\"\n",
    "    elif avg < 60 and avg > 49:\n",
    "        outmssg = \"Pass\"\n",
    "    else:\n",
    "        outmssg = \"Fail\"\n",
    "    \n",
    "    finmssg = \"The average score of %s is evaluated to be %f with a %s\" %(name, avg, outmssg)\n",
    "\n",
    "    print(finmssg)\n",
    "\n",
    "    "
   ]
  },
  {
   "cell_type": "code",
   "execution_count": 31,
   "metadata": {},
   "outputs": [
    {
     "name": "stdout",
     "output_type": "stream",
     "text": [
      "The average score of John is evaluated to be 71.500000 with a Distinction\n",
      "The average score of Peter is evaluated to be 80.333333 with a Distinction\n",
      "The average score of Sheyi is evaluated to be 79.500000 with a Distinction\n"
     ]
    }
   ],
   "source": [
    "for i in students_records:\n",
    "    evalscore_(i)"
   ]
  },
  {
   "cell_type": "code",
   "execution_count": 32,
   "metadata": {},
   "outputs": [
    {
     "data": {
      "text/plain": [
       "[1, 3, 4, 5, 6, 8, 9, 10, 23]"
      ]
     },
     "execution_count": 32,
     "metadata": {},
     "output_type": "execute_result"
    }
   ],
   "source": [
    "def removeduplicate(ul):\n",
    "    x = []\n",
    "    for i in ul:\n",
    "        if i not in x:\n",
    "            x.append(i)\n",
    "    x = sorted(x)    \n",
    "    return x\n",
    "\n",
    "removeduplicate([23, 23, 1, 1, 3, 3, 4, 5, 6, 6, 8, 9, 10, 10])\n",
    "        "
   ]
  },
  {
   "cell_type": "markdown",
   "metadata": {},
   "source": [
    "## List Comprehension"
   ]
  },
  {
   "cell_type": "code",
   "execution_count": 44,
   "metadata": {},
   "outputs": [],
   "source": [
    "def valgreaterthan3_(ul):\n",
    "    x = sorted([i for i in ul if i > 3])\n",
    "    return x"
   ]
  },
  {
   "cell_type": "code",
   "execution_count": 42,
   "metadata": {},
   "outputs": [],
   "source": [
    "def valgreaterthan3(ul):\n",
    "    x = []\n",
    "    for i in ul:\n",
    "        if i > 3:\n",
    "            x.append(i)\n",
    "    x = sorted(x)\n",
    "    return x"
   ]
  },
  {
   "cell_type": "code",
   "execution_count": 45,
   "metadata": {},
   "outputs": [
    {
     "data": {
      "text/plain": [
       "[4, 5, 6, 6, 8, 9, 10, 10, 23, 23]"
      ]
     },
     "execution_count": 45,
     "metadata": {},
     "output_type": "execute_result"
    }
   ],
   "source": [
    "valgreaterthan3_([23, 23, 1, 1, 3, 3, 4, 5, 6, 6, 8, 9, 10, 10])"
   ]
  },
  {
   "cell_type": "markdown",
   "metadata": {},
   "source": [
    "def "
   ]
  }
 ],
 "metadata": {
  "interpreter": {
   "hash": "63fd5069d213b44bf678585dea6b12cceca9941eaf7f819626cde1f2670de90d"
  },
  "kernelspec": {
   "display_name": "Python 3.9.2 64-bit",
   "name": "python3"
  },
  "language_info": {
   "codemirror_mode": {
    "name": "ipython",
    "version": 3
   },
   "file_extension": ".py",
   "mimetype": "text/x-python",
   "name": "python",
   "nbconvert_exporter": "python",
   "pygments_lexer": "ipython3",
   "version": "3.9.2"
  }
 },
 "nbformat": 4,
 "nbformat_minor": 2
}
