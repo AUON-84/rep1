{
  "nbformat": 4,
  "nbformat_minor": 0,
  "metadata": {
    "colab": {
      "name": "Creating Arrays",
      "provenance": []
    },
    "language_info": {
      "name": "python"
    },
    "kernelspec": {
      "name": "python3",
      "display_name": "Python 3"
    }
  },
  "cells": [
    {
      "cell_type": "code",
      "metadata": {
        "id": "bIIzWuySbweV"
      },
      "source": [
        "# Creating Numpy arrays\n",
        "import numpy as np\n",
        "\n",
        "# Converting from a list\n",
        "#Lets start with a list\n",
        "\n",
        "my_list1 = [1,2,3,4]\n",
        "\n",
        "my_array1 = np.array(my_list1)\n",
        "\n"
      ],
      "execution_count": 2,
      "outputs": []
    },
    {
      "cell_type": "code",
      "metadata": {
        "colab": {
          "base_uri": "https://localhost:8080/"
        },
        "id": "FUzk27fglhLU",
        "outputId": "8824f8e8-a811-4f0b-c74a-5079d7f41cd6"
      },
      "source": [
        "my_array1"
      ],
      "execution_count": 28,
      "outputs": [
        {
          "output_type": "execute_result",
          "data": {
            "text/plain": [
              "array([1, 2, 3, 4])"
            ]
          },
          "metadata": {},
          "execution_count": 28
        }
      ]
    },
    {
      "cell_type": "code",
      "metadata": {
        "colab": {
          "base_uri": "https://localhost:8080/"
        },
        "id": "--XQV6SOfDR7",
        "outputId": "fa837f01-87b6-40af-8ded-75f21a26d91f"
      },
      "source": [
        "arr1 = np.arange(4, 100, 5)\n",
        "arr1.ndim"
      ],
      "execution_count": 11,
      "outputs": [
        {
          "output_type": "execute_result",
          "data": {
            "text/plain": [
              "1"
            ]
          },
          "metadata": {},
          "execution_count": 11
        }
      ]
    },
    {
      "cell_type": "code",
      "metadata": {
        "id": "RLi4yAxCgjBJ"
      },
      "source": [
        "obj = [[2, 4], [1, 8]]\n",
        "arr2 = np.array(obj)"
      ],
      "execution_count": 9,
      "outputs": []
    },
    {
      "cell_type": "code",
      "metadata": {
        "colab": {
          "base_uri": "https://localhost:8080/"
        },
        "id": "vt4ZShpJiNbw",
        "outputId": "7534c7a1-1546-4919-eb63-8542c61d1b0c"
      },
      "source": [
        "obj3dm = [[[2, 1], [3, 6]], [[5, 8], [6, 9]], [[0, 4], [8, 6]]]\n",
        "arr3 = np.array(obj3dm)\n",
        "print(arr3.ndim)\n",
        "print(arr3.shape)\n",
        "print(arr3)"
      ],
      "execution_count": 26,
      "outputs": [
        {
          "output_type": "stream",
          "name": "stdout",
          "text": [
            "3\n",
            "(3, 2, 2)\n",
            "[[[2 1]\n",
            "  [3 6]]\n",
            "\n",
            " [[5 8]\n",
            "  [6 9]]\n",
            "\n",
            " [[0 4]\n",
            "  [8 6]]]\n"
          ]
        }
      ]
    },
    {
      "cell_type": "code",
      "metadata": {
        "colab": {
          "base_uri": "https://localhost:8080/"
        },
        "id": "Baji374uqdfi",
        "outputId": "2e16659a-7a34-4335-a771-425a8a705d6c"
      },
      "source": [
        "print(arr3 * 5)"
      ],
      "execution_count": 50,
      "outputs": [
        {
          "output_type": "stream",
          "name": "stdout",
          "text": [
            "[[[10  5]\n",
            "  [15 30]]\n",
            "\n",
            " [[25 40]\n",
            "  [30 45]]\n",
            "\n",
            " [[ 0 20]\n",
            "  [40 30]]]\n"
          ]
        }
      ]
    },
    {
      "cell_type": "code",
      "metadata": {
        "colab": {
          "base_uri": "https://localhost:8080/"
        },
        "id": "cnj_ae4Vi4uR",
        "outputId": "6403661c-4d79-4658-ba10-f70f6b1ce938"
      },
      "source": [
        "arr3[1, 0, 1]"
      ],
      "execution_count": 27,
      "outputs": [
        {
          "output_type": "execute_result",
          "data": {
            "text/plain": [
              "8"
            ]
          },
          "metadata": {},
          "execution_count": 27
        }
      ]
    },
    {
      "cell_type": "code",
      "metadata": {
        "colab": {
          "base_uri": "https://localhost:8080/"
        },
        "id": "f7Oo22B-hQ_e",
        "outputId": "117c0bb9-889e-4358-cf34-9966a43b2e69"
      },
      "source": [
        "arr2.shape"
      ],
      "execution_count": 30,
      "outputs": [
        {
          "output_type": "execute_result",
          "data": {
            "text/plain": [
              "(2, 2)"
            ]
          },
          "metadata": {},
          "execution_count": 30
        }
      ]
    },
    {
      "cell_type": "code",
      "metadata": {
        "id": "PJ0m3QQKbwef",
        "outputId": "a5b0ba8a-10a4-4317-b7c5-b4d753cb598f"
      },
      "source": [
        "#Print out array\n",
        "\n",
        "my_array"
      ],
      "execution_count": null,
      "outputs": [
        {
          "output_type": "execute_result",
          "data": {},
          "metadata": {},
          "execution_count": 2
        }
      ]
    },
    {
      "cell_type": "code",
      "metadata": {
        "id": "aqYFy9H0bwei",
        "colab": {
          "base_uri": "https://localhost:8080/"
        },
        "outputId": "e7593576-fdec-4daa-fd34-57df4a6b2dcb"
      },
      "source": [
        "# Make another list\n",
        "my_list2 = [11,22,33,44]\n",
        "\n",
        "#Make a list of lists\n",
        "my_lists = [my_list1,my_list2]\n",
        "\n",
        "#Make multi-dimensional array\n",
        "my_array2 = np.array(my_lists)\n",
        "\n",
        "#Show array\n",
        "my_array2.T"
      ],
      "execution_count": 39,
      "outputs": [
        {
          "output_type": "execute_result",
          "data": {
            "text/plain": [
              "array([[ 1, 11],\n",
              "       [ 2, 22],\n",
              "       [ 3, 33],\n",
              "       [ 4, 44]])"
            ]
          },
          "metadata": {},
          "execution_count": 39
        }
      ]
    },
    {
      "cell_type": "code",
      "metadata": {
        "id": "w05PRKerbwej",
        "colab": {
          "base_uri": "https://localhost:8080/"
        },
        "outputId": "94be21fe-a9d6-4852-831a-352851b603d0"
      },
      "source": [
        "#Lets get the size of the array\n",
        "my_array2.shape"
      ],
      "execution_count": 31,
      "outputs": [
        {
          "output_type": "execute_result",
          "data": {
            "text/plain": [
              "(2, 4)"
            ]
          },
          "metadata": {},
          "execution_count": 31
        }
      ]
    },
    {
      "cell_type": "code",
      "metadata": {
        "id": "8mxeXFoVbwek",
        "colab": {
          "base_uri": "https://localhost:8080/"
        },
        "outputId": "179f0f1a-55f6-4842-edc1-2041011b862e"
      },
      "source": [
        "#Find out the data tyoe of the array\n",
        "my_array2.dtype"
      ],
      "execution_count": 32,
      "outputs": [
        {
          "output_type": "execute_result",
          "data": {
            "text/plain": [
              "dtype('int64')"
            ]
          },
          "metadata": {},
          "execution_count": 32
        }
      ]
    },
    {
      "cell_type": "code",
      "metadata": {
        "colab": {
          "base_uri": "https://localhost:8080/"
        },
        "id": "8l2Zib51maKI",
        "outputId": "71921821-5e74-4c4a-8a59-72cfb8a89f3e"
      },
      "source": [
        "objmixed = [['1', 'blue', '6', '8'], ['4', 'redredredred', '3', '10']]\n",
        "arr4 = np.array(objmixed)\n",
        "arr4.dtype"
      ],
      "execution_count": 37,
      "outputs": [
        {
          "output_type": "execute_result",
          "data": {
            "text/plain": [
              "dtype('<U12')"
            ]
          },
          "metadata": {},
          "execution_count": 37
        }
      ]
    },
    {
      "cell_type": "code",
      "metadata": {
        "colab": {
          "base_uri": "https://localhost:8080/"
        },
        "id": "As0Stf91nF97",
        "outputId": "45141517-7695-4b07-bc16-c498555d33ff"
      },
      "source": [
        "items = ['Man', 'Woman']\n",
        "arr5 = np.array(items)\n",
        "arr5.dtype"
      ],
      "execution_count": 36,
      "outputs": [
        {
          "output_type": "execute_result",
          "data": {
            "text/plain": [
              "dtype('<U5')"
            ]
          },
          "metadata": {},
          "execution_count": 36
        }
      ]
    },
    {
      "cell_type": "code",
      "metadata": {
        "id": "GP6xkZtUbwel",
        "colab": {
          "base_uri": "https://localhost:8080/"
        },
        "outputId": "29f0b37a-4860-4cb9-bd85-6c9a8d0ea29d"
      },
      "source": [
        "#Making special case arrays\n",
        "\n",
        "#Zeros\n",
        "np.zeros(10)"
      ],
      "execution_count": 42,
      "outputs": [
        {
          "output_type": "execute_result",
          "data": {
            "text/plain": [
              "array([0., 0., 0., 0., 0., 0., 0., 0., 0., 0.])"
            ]
          },
          "metadata": {},
          "execution_count": 42
        }
      ]
    },
    {
      "cell_type": "code",
      "metadata": {
        "id": "CuyeSrZhbwem",
        "colab": {
          "base_uri": "https://localhost:8080/"
        },
        "outputId": "c05aa5d6-6be6-4981-dcd2-d7ca5ff9a8b6"
      },
      "source": [
        "#Ones\n",
        "np.ones((3,5))"
      ],
      "execution_count": 44,
      "outputs": [
        {
          "output_type": "execute_result",
          "data": {
            "text/plain": [
              "array([[1., 1., 1., 1., 1.],\n",
              "       [1., 1., 1., 1., 1.],\n",
              "       [1., 1., 1., 1., 1.]])"
            ]
          },
          "metadata": {},
          "execution_count": 44
        }
      ]
    },
    {
      "cell_type": "code",
      "metadata": {
        "id": "TZXoDGDCbwep",
        "colab": {
          "base_uri": "https://localhost:8080/"
        },
        "outputId": "6c920028-ee5b-463e-98c8-27c52f09fa8c"
      },
      "source": [
        "# An empty array\n",
        "\n",
        "print(np.empty(10))\n",
        "print(np.empty((3,4)))"
      ],
      "execution_count": 47,
      "outputs": [
        {
          "output_type": "stream",
          "name": "stdout",
          "text": [
            "[0. 0. 0. 0. 0. 0. 0. 0. 0. 0.]\n",
            "[[9.9e-324 4.9e-324 1.5e-323 3.0e-323]\n",
            " [2.5e-323 4.0e-323 3.0e-323 4.4e-323]\n",
            " [0.0e+000 2.0e-323 4.0e-323 3.0e-323]]\n"
          ]
        }
      ]
    },
    {
      "cell_type": "code",
      "metadata": {
        "id": "BP6L1dpJbwer",
        "colab": {
          "base_uri": "https://localhost:8080/"
        },
        "outputId": "8d9d75dc-0a3d-4eae-c165-d832dee4345a"
      },
      "source": [
        "#Identity array\n",
        "np.eye(10)"
      ],
      "execution_count": 49,
      "outputs": [
        {
          "output_type": "execute_result",
          "data": {
            "text/plain": [
              "array([[1., 0., 0., 0., 0., 0., 0., 0., 0., 0.],\n",
              "       [0., 1., 0., 0., 0., 0., 0., 0., 0., 0.],\n",
              "       [0., 0., 1., 0., 0., 0., 0., 0., 0., 0.],\n",
              "       [0., 0., 0., 1., 0., 0., 0., 0., 0., 0.],\n",
              "       [0., 0., 0., 0., 1., 0., 0., 0., 0., 0.],\n",
              "       [0., 0., 0., 0., 0., 1., 0., 0., 0., 0.],\n",
              "       [0., 0., 0., 0., 0., 0., 1., 0., 0., 0.],\n",
              "       [0., 0., 0., 0., 0., 0., 0., 1., 0., 0.],\n",
              "       [0., 0., 0., 0., 0., 0., 0., 0., 1., 0.],\n",
              "       [0., 0., 0., 0., 0., 0., 0., 0., 0., 1.]])"
            ]
          },
          "metadata": {},
          "execution_count": 49
        }
      ]
    },
    {
      "cell_type": "code",
      "metadata": {
        "id": "CFR4S20Jbwes",
        "outputId": "48238fda-c548-4806-c261-ae8ed7acf8cf"
      },
      "source": [
        "# Using a range\n",
        "\n",
        "np.arange(5)"
      ],
      "execution_count": null,
      "outputs": [
        {
          "output_type": "execute_result",
          "data": {},
          "metadata": {},
          "execution_count": 4
        }
      ]
    },
    {
      "cell_type": "code",
      "metadata": {
        "id": "MrgYC9gKbwet"
      },
      "source": [
        ""
      ],
      "execution_count": null,
      "outputs": []
    }
  ]
}