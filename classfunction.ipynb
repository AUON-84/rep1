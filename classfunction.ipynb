{
  "nbformat": 4,
  "nbformat_minor": 0,
  "metadata": {
    "interpreter": {
      "hash": "63fd5069d213b44bf678585dea6b12cceca9941eaf7f819626cde1f2670de90d"
    },
    "kernelspec": {
      "display_name": "Python 3.9.2 64-bit",
      "name": "python3"
    },
    "language_info": {
      "codemirror_mode": {
        "name": "ipython",
        "version": 3
      },
      "file_extension": ".py",
      "mimetype": "text/x-python",
      "name": "python",
      "nbconvert_exporter": "python",
      "pygments_lexer": "ipython3",
      "version": "3.8.1"
    },
    "orig_nbformat": 4,
    "colab": {
      "name": "classfunction.ipynb",
      "provenance": []
    }
  },
  "cells": [
    {
      "cell_type": "code",
      "metadata": {
        "id": "tfb0UIPMWipZ"
      },
      "source": [
        "class MySchool:\n",
        "    def __init__(self, name):\n",
        "        self.a = name\n",
        "    \n",
        "    def getclasses(self, noclasses):\n",
        "        \n",
        "        name = self.a\n",
        "        classes = noclasses\n",
        "        output = \"There are %s classes in %s school\" %(classes, name)\n",
        "\n",
        "        return output\n",
        "\n",
        "    def getstudents(self, nostudents):\n",
        "\n",
        "        stds = nostudents\n",
        "        name = self.a \n",
        "        output = \"There are %s students in %s school\" %(stds, name)\n",
        "\n",
        "        return output\n",
        "\n"
      ],
      "execution_count": null,
      "outputs": []
    },
    {
      "cell_type": "code",
      "metadata": {
        "id": "2pkzrykFWiph"
      },
      "source": [
        "sch = MySchool(\"Glorious\")"
      ],
      "execution_count": null,
      "outputs": []
    },
    {
      "cell_type": "code",
      "metadata": {
        "id": "7trWeB1XWipj",
        "outputId": "efe6cd33-b1fb-4e2f-da4f-a1cddf7b4f29"
      },
      "source": [
        "#sch.getclasses(9)\n",
        "sch.getstudents(1000)"
      ],
      "execution_count": null,
      "outputs": [
        {
          "data": {
            "text/plain": [
              "'There are 1000 students in Glorious school'"
            ]
          },
          "execution_count": 9,
          "metadata": {},
          "output_type": "execute_result"
        }
      ]
    },
    {
      "cell_type": "code",
      "metadata": {
        "id": "eHvvMsjLWipl",
        "outputId": "2007ffa0-1160-4f87-cbc1-79d83f81ef3d"
      },
      "source": [
        "MySchool(\"Adeola\")"
      ],
      "execution_count": null,
      "outputs": [
        {
          "data": {
            "text/plain": [
              "<__main__.MySchool at 0x1ffb3678df0>"
            ]
          },
          "execution_count": 4,
          "metadata": {},
          "output_type": "execute_result"
        }
      ]
    },
    {
      "cell_type": "code",
      "metadata": {
        "id": "W3gPFNOpWipn"
      },
      "source": [
        "class shapeCalc:\n",
        "    def __init__(self, name, l = None, b = None, r = None, s = None):\n",
        "        self.name = name.lower()\n",
        "        self.l = l\n",
        "        self.b = b\n",
        "        self.r = r\n",
        "        self.s = s\n",
        "\n",
        "    def area(self, dp):\n",
        "\n",
        "        if self.name == \"triangle\":\n",
        "            area = 0.5 * self.b * self.l\n",
        "        elif self.name == \"circle\":\n",
        "            area = self.r ** 2 * (22/7) \n",
        "        elif self.name == \"rectangle\":\n",
        "            area = self.l * self.b\n",
        "        elif self.name == \"square\":\n",
        "            area = self.l ** 2\n",
        "        \n",
        "        area = round(area, dp)\n",
        "        area = str(area)\n",
        "\n",
        "        mssg = \"Value of area is %ssq.cm\" %area\n",
        "        \n",
        "        return mssg\n",
        "\n",
        "    def perimeter(self, dp):\n",
        "        if self.name == \"triangle\":\n",
        "            periM =  self.b + self.l + self.s\n",
        "        elif self.name == \"circle\":\n",
        "            periM = self.r * 2 * (22/7) \n",
        "        elif self.name == \"rectangle\":\n",
        "            periM = 2 * (self.l + self.b)\n",
        "        elif self.name == \"square\":\n",
        "            periM = 4 * (self.l)\n",
        "\n",
        "        periM = round(periM, dp)\n",
        "        periM = str(periM)\n",
        "\n",
        "        mssg = \"The perimeter of %s is measured at %scm\" %(self.name, periM)\n",
        "        \n",
        "        return mssg"
      ],
      "execution_count": null,
      "outputs": []
    },
    {
      "cell_type": "code",
      "metadata": {
        "id": "maBhDl00Wipq",
        "outputId": "761215b8-c9ac-4634-c138-ce28c54e095e"
      },
      "source": [
        "calc = shapeCalc(\"Square\", l=4)\n",
        "calc.perimeter(2)"
      ],
      "execution_count": null,
      "outputs": [
        {
          "data": {
            "text/plain": [
              "'The perimeter of square is measured at 16cm'"
            ]
          },
          "execution_count": 24,
          "metadata": {},
          "output_type": "execute_result"
        }
      ]
    },
    {
      "cell_type": "markdown",
      "metadata": {
        "id": "9HKvGd2RWsl5"
      },
      "source": [
        "<h3> url to visit for practice samples on cass function </h3>\n",
        "\n",
        "https://holypython.com/advanced-python-exercises/exercise-4-classes/ \n",
        "<br>\n",
        "<br>\n",
        "https://erlerobotics.gitbooks.io/erle-robotics-learning-python-gitbook-free/content/classes/exercisesclasses.html \n"
      ]
    },
    {
      "cell_type": "code",
      "metadata": {
        "id": "J2TB0DvrWipw"
      },
      "source": [
        ""
      ],
      "execution_count": null,
      "outputs": []
    },
    {
      "cell_type": "markdown",
      "metadata": {
        "id": "88EC7-TxWipx"
      },
      "source": [
        "<p> Create a class vehicle that "
      ]
    }
  ]
}