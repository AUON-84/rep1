{
  "cells": [
    {
      "cell_type": "code",
      "execution_count": 1,
      "metadata": {
        "id": "tfb0UIPMWipZ"
      },
      "outputs": [],
      "source": [
        "class MySchool:\n",
        "    def __init__(self, name):\n",
        "        self.a = name\n",
        "    \n",
        "    def getclasses(self, noclasses):\n",
        "        \n",
        "        name = self.a\n",
        "        classes = noclasses\n",
        "        output = \"There are %s classes in %s school\" %(classes, name)\n",
        "\n",
        "        return output\n",
        "\n",
        "    def getstudents(self, nostudents):\n",
        "\n",
        "        stds = nostudents\n",
        "        name = self.a \n",
        "        output = \"There are %s students in %s school\" %(stds, name)\n",
        "\n",
        "        return output\n",
        "\n"
      ]
    },
    {
      "cell_type": "code",
      "execution_count": null,
      "metadata": {
        "id": "2pkzrykFWiph"
      },
      "outputs": [],
      "source": [
        "sch = MySchool(\"Glorious\")"
      ]
    },
    {
      "cell_type": "code",
      "execution_count": null,
      "metadata": {
        "id": "7trWeB1XWipj",
        "outputId": "efe6cd33-b1fb-4e2f-da4f-a1cddf7b4f29"
      },
      "outputs": [
        {
          "data": {
            "text/plain": [
              "'There are 1000 students in Glorious school'"
            ]
          },
          "execution_count": 9,
          "metadata": {},
          "output_type": "execute_result"
        }
      ],
      "source": [
        "#sch.getclasses(9)\n",
        "sch.getstudents(1000)"
      ]
    },
    {
      "cell_type": "code",
      "execution_count": null,
      "metadata": {
        "id": "eHvvMsjLWipl",
        "outputId": "2007ffa0-1160-4f87-cbc1-79d83f81ef3d"
      },
      "outputs": [
        {
          "data": {
            "text/plain": [
              "<__main__.MySchool at 0x1ffb3678df0>"
            ]
          },
          "execution_count": 4,
          "metadata": {},
          "output_type": "execute_result"
        }
      ],
      "source": [
        "MySchool(\"Adeola\")"
      ]
    },
    {
      "cell_type": "code",
      "execution_count": 3,
      "metadata": {
        "id": "W3gPFNOpWipn"
      },
      "outputs": [],
      "source": [
        "class shapeCalc:\n",
        "    def __init__(self, name, l = None, b = None, r = None, s = None):\n",
        "        self.name = name.lower()\n",
        "        self.l = l\n",
        "        self.b = b\n",
        "        self.r = r\n",
        "        self.s = s\n",
        "\n",
        "    def area(self, dp):\n",
        "\n",
        "        if self.name == \"triangle\":\n",
        "            area = 0.5 * self.b * self.l\n",
        "        elif self.name == \"circle\":\n",
        "            area = self.r ** 2 * (22/7) \n",
        "        elif self.name == \"rectangle\":\n",
        "            area = self.l * self.b\n",
        "        elif self.name == \"square\":\n",
        "            area = self.l ** 2\n",
        "        \n",
        "        area = round(area, dp)\n",
        "        area = str(area)\n",
        "\n",
        "        mssg = \"Value of area is %ssq.cm\" %area\n",
        "        \n",
        "        return mssg, area\n",
        "\n",
        "    def perimeter(self, dp):\n",
        "        if self.name == \"triangle\":\n",
        "            periM =  self.b + self.l + self.s\n",
        "        elif self.name == \"circle\":\n",
        "            periM = self.r * 2 * (22/7) \n",
        "        elif self.name == \"rectangle\":\n",
        "            periM = 2 * (self.l + self.b)\n",
        "        elif self.name == \"square\":\n",
        "            periM = 4 * (self.l)\n",
        "\n",
        "        periM = round(periM, dp)\n",
        "        periM = str(periM)\n",
        "\n",
        "        mssg = \"The perimeter of %s is measured at %scm\" %(self.name, periM)\n",
        "        \n",
        "        return mssg, periM"
      ]
    },
    {
      "cell_type": "code",
      "execution_count": 5,
      "metadata": {
        "id": "maBhDl00Wipq",
        "outputId": "761215b8-c9ac-4634-c138-ce28c54e095e"
      },
      "outputs": [
        {
          "name": "stdout",
          "output_type": "stream",
          "text": [
            "The area and perimeter of the shape calculated is 16sq.cm and 16cm respectufully\n"
          ]
        }
      ],
      "source": [
        "calc = shapeCalc(\"Square\", l=4)\n",
        "\n",
        "mssg_, periM_ = calc.perimeter(2)\n",
        "mssga, area_ = calc.area(1)\n",
        "\n",
        "output = \"The area and perimeter of the shape calculated is %ssq.cm and %scm respectufully\" %(area_, periM_)\n",
        "print(output) "
      ]
    },
    {
      "cell_type": "markdown",
      "metadata": {
        "id": "9HKvGd2RWsl5"
      },
      "source": [
        "<h3> url to visit for practice samples on cass function </h3>\n",
        "\n",
        "https://holypython.com/advanced-python-exercises/exercise-4-classes/ \n",
        "<br>\n",
        "<br>\n",
        "https://erlerobotics.gitbooks.io/erle-robotics-learning-python-gitbook-free/content/classes/exercisesclasses.html \n"
      ]
    },
    {
      "cell_type": "markdown",
      "metadata": {},
      "source": [
        "<h1> Exercise 1 </h1>\n",
        "<ul>\n",
        "<li> Create a class, Triangle. Its __init__() method should take self, angle1, angle2, and angle3 as arguments. Make sure to set these appropriately in the body of the __init__()method. </li>\n",
        "<li> Create a variable named number_of_sides and set it equal to 3. </li>\n",
        "<li> Create a method named check_angles. The sum of a triangle's three angles is It should return True if the sum of self.angle1, self.angle2, and self.angle3 is equal 180, and False otherwise. </li>\n",
        "<li> Create a variable named my_triangle and set it equal to a new instance of your Triangle class. Pass it three angles that sum to 180 (e.g. 90, 30, 60). </li>\n",
        "<li> Print out my_triangle.number_of_sides and print out my_triangle.check_angles() <li>\n",
        "\n",
        "</ul>"
      ]
    },
    {
      "cell_type": "code",
      "execution_count": 8,
      "metadata": {
        "id": "J2TB0DvrWipw"
      },
      "outputs": [
        {
          "name": "stdout",
          "output_type": "stream",
          "text": [
            "3\n",
            "True\n"
          ]
        }
      ],
      "source": [
        "class Triangle:\n",
        "    def __init__(self, angle1, angle2, angle3):\n",
        "        self.angle1 = angle1\n",
        "        self.angle2 = angle2\n",
        "        self.angle3 = angle3\n",
        "\n",
        "    number_of_sides = 3\n",
        "\n",
        "    def check_angles(self):\n",
        "        if self.angle1 + self.angle2 + self.angle3 == 180:\n",
        "            return True\n",
        "            \n",
        "        else:\n",
        "            return False\n",
        "\n",
        "my_triangle = Triangle(90, 30, 60)\n",
        "\n",
        "\n",
        "print(my_triangle.number_of_sides) \n",
        "\n",
        "print(my_triangle.check_angles())\n",
        "\n"
      ]
    },
    {
      "cell_type": "markdown",
      "metadata": {},
      "source": [
        " <p> Define a class called Songs, it will show the lyrics of a song. Its __init__() method should have two arguments:selfanf lyrics.lyricsis a list. Inside your class create a method called sing_me_a_songthat prints each element of lyricson his own line. Define a varible: </p>"
      ]
    },
    {
      "cell_type": "code",
      "execution_count": 9,
      "metadata": {},
      "outputs": [
        {
          "name": "stdout",
          "output_type": "stream",
          "text": [
            "It's close to midnight\n",
            "Something evil's lurking from the dark\n",
            "Under the moonlight\n",
            "You see a sight that almost stops your heart\n",
            "You try to scream\n",
            "But terror takes the sound before you make it\n",
            "You start to freeze\n",
            "As horror looks you right between the eyes\n",
            "You're paralysed\n"
          ]
        }
      ],
      "source": [
        "class Song:\n",
        "    def __init__(self, lyrics):\n",
        "        self.lyrics = lyrics \n",
        "\n",
        "    def sing_me_a_song(self):\n",
        "        for lyrics in self.lyrics:\n",
        "            print(lyrics)\n",
        "\n",
        "\n",
        "music_lyrics = [\"It's close to midnight\", \"Something evil's lurking from the dark\", \"Under the moonlight\", \"You see a sight that almost stops your heart\",\n",
        "\"You try to scream\",\n",
        "\"But terror takes the sound before you make it\",\n",
        "\"You start to freeze\",\n",
        "\"As horror looks you right between the eyes\",\n",
        "\"You're paralysed\"] \n",
        "\n",
        "sing = Song(music_lyrics)\n",
        "\n",
        "sing.sing_me_a_song()"
      ]
    },
    {
      "cell_type": "markdown",
      "metadata": {},
      "source": [
        "<p> Define a class called Lunch.Its __init__() method should have two arguments:selfanf menu.Where menu is a string. Add a method called menu_price.It will involve a ifstatement:  </p>\n",
        "\n",
        "<ul>\n",
        "<li> if \"menu 1\" print \"Your choice:\", menu, \"Price 12.00\", if \"menu 2\" print \"Your choice:\", menu, \"Price 13.40\", else print \"Error in menu\". </li>\n",
        "<li> To check if it works define: Paul=Lunch(\"menu 1\") and call Paul.menu_price() </li>\n",
        "\n",
        "<ul>"
      ]
    },
    {
      "cell_type": "code",
      "execution_count": 3,
      "metadata": {},
      "outputs": [
        {
          "name": "stdout",
          "output_type": "stream",
          "text": [
            "Error in menu\n"
          ]
        }
      ],
      "source": [
        "class Lunch:\n",
        "    def __init__(self, menu):\n",
        "        self.menu = menu\n",
        "\n",
        "    def menu_price(self):\n",
        "        if self.menu == 'menu 1':\n",
        "            prc = \"Menu choice 1 and Price 12.00\"\n",
        "        elif self.menu == \"menu 2\":\n",
        "            prc = \"Menu choice 2 and Price 13.40\"\n",
        "        else:\n",
        "            prc = \"Error in menu\"\n",
        "        \n",
        "        return prc\n",
        "\n",
        "\n",
        "menu_choice = Lunch(\"menu\")\n",
        "print(menu_choice.menu_price())"
      ]
    },
    {
      "cell_type": "markdown",
      "metadata": {},
      "source": [
        "<p> Define a Point3D class that inherits from object Inside the Point3D class, define an __init__() function that accepts self, x, y, and z, and assigns these numbers to the member variables self.x,self.y,self.z. Define a __repr__() method that returns \"(%d, %d, %d)\" % (self.x, self.y, self.z). This tells Python to represent this object in the following format: (x, y, z). Outside the class definition, create a variable named my_point containing a new instance of Point3D with x=1, y=2, and z=3. Finally, print my_point </p>"
      ]
    },
    {
      "cell_type": "code",
      "execution_count": 15,
      "metadata": {},
      "outputs": [
        {
          "name": "stdout",
          "output_type": "stream",
          "text": [
            "<__main__.Point3D object at 0x0000013C59EDB5B0>\n"
          ]
        }
      ],
      "source": [
        "class Point3D:\n",
        "    def __init__(self, x, y, z):\n",
        "        self.x = x \n",
        "        self.y = y \n",
        "        self.z = z \n",
        "\n",
        "    def __repr__(self):\n",
        "            return \"(%d, %d)\" %(self.x, self.y) \n",
        "\n",
        "    def add_points(self):\n",
        "        return \"(%d)\" %(self.x + self.y)\n",
        "\n",
        "\n",
        "\n",
        "my_point = Point3D(3.5435, 6.2321, 10.4543) \n",
        "\n",
        "print(my_point)\n",
        "\n"
      ]
    },
    {
      "cell_type": "code",
      "execution_count": 19,
      "metadata": {},
      "outputs": [
        {
          "name": "stdout",
          "output_type": "stream",
          "text": [
            "Person(John, 30)\n"
          ]
        }
      ],
      "source": [
        "class Person:\n",
        "    def __init__(self, name, age):\n",
        "        self.name = name \n",
        "        self.age = age \n",
        "\n",
        "    def __repr__(self) -> str:\n",
        "        rep = 'Person(' + self.name + ', ' + str(self.age) + ')'\n",
        "        return rep\n",
        "\n",
        "print(Person(\"John\", 30))"
      ]
    },
    {
      "cell_type": "markdown",
      "metadata": {},
      "source": [
        "## Lambda Function"
      ]
    },
    {
      "cell_type": "code",
      "execution_count": 20,
      "metadata": {},
      "outputs": [
        {
          "name": "stdout",
          "output_type": "stream",
          "text": [
            "2.2\n"
          ]
        }
      ],
      "source": [
        "def myfunc(n):\n",
        "    \n",
        "    return lambda a, b, c:( a * (b + c)  ) / n\n",
        "\n",
        "func = myfunc(15)\n",
        "print(func(3, 5, 6))"
      ]
    },
    {
      "cell_type": "code",
      "execution_count": 27,
      "metadata": {},
      "outputs": [
        {
          "data": {
            "text/plain": [
              "[2, 4, 6, 8]"
            ]
          },
          "execution_count": 27,
          "metadata": {},
          "output_type": "execute_result"
        }
      ],
      "source": [
        "list_1 = [1,2,3,4,5,6,7,8,9] \n",
        "\n",
        "list(filter( lambda x: x % 2 == 0, list_1))"
      ]
    },
    {
      "cell_type": "code",
      "execution_count": 45,
      "metadata": {},
      "outputs": [],
      "source": [
        "def testfunc(x):\n",
        "    if x > 5:\n",
        "        x = x\n",
        "    else:\n",
        "        x = None\n",
        "    return x"
      ]
    },
    {
      "cell_type": "code",
      "execution_count": 51,
      "metadata": {},
      "outputs": [],
      "source": [
        "def mapcustom(x):\n",
        "    return x*4"
      ]
    },
    {
      "cell_type": "code",
      "execution_count": 52,
      "metadata": {},
      "outputs": [
        {
          "name": "stdout",
          "output_type": "stream",
          "text": [
            "[6, 7, 8, 9]\n",
            "[4, 8, 12, 16, 20, 24, 28, 32, 36]\n"
          ]
        }
      ],
      "source": [
        "print(list(filter(testfunc, list_1)))\n",
        "print(list(map(mapcustom, list_1)))"
      ]
    },
    {
      "cell_type": "code",
      "execution_count": 44,
      "metadata": {},
      "outputs": [
        {
          "name": "stdout",
          "output_type": "stream",
          "text": [
            "[1, 2, 3, 4, 5, 6, 7, 8, 9]\n",
            "[6, 7, 8, 9]\n",
            "[4, 8, 12, 16, 20, 24, 28, 32, 36]\n"
          ]
        }
      ],
      "source": [
        "print(list_1)\n",
        "output = map(lambda x: x*4, list_1)\n",
        "print(list(filter(lambda x: x > 5, list_1)))\n",
        "print(list(output))"
      ]
    },
    {
      "cell_type": "markdown",
      "metadata": {},
      "source": []
    }
  ],
  "metadata": {
    "colab": {
      "name": "classfunction.ipynb",
      "provenance": []
    },
    "interpreter": {
      "hash": "aecd030d4c8316a52bf122072e28f84bcc79844c2684e041fef2e3f1d9f59078"
    },
    "kernelspec": {
      "display_name": "Python 3.10.0 64-bit",
      "name": "python3"
    },
    "language_info": {
      "codemirror_mode": {
        "name": "ipython",
        "version": 3
      },
      "file_extension": ".py",
      "mimetype": "text/x-python",
      "name": "python",
      "nbconvert_exporter": "python",
      "pygments_lexer": "ipython3",
      "version": "3.10.0"
    },
    "orig_nbformat": 4
  },
  "nbformat": 4,
  "nbformat_minor": 0
}
