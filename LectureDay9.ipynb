{
  "nbformat": 4,
  "nbformat_minor": 0,
  "metadata": {
    "colab": {
      "name": "LectureDay9.ipynb",
      "provenance": []
    },
    "kernelspec": {
      "name": "python3",
      "display_name": "Python 3"
    },
    "language_info": {
      "name": "python"
    }
  },
  "cells": [
    {
      "cell_type": "markdown",
      "metadata": {
        "id": "sYmUfIDd7zCB"
      },
      "source": [
        "## Python User Input"
      ]
    },
    {
      "cell_type": "code",
      "metadata": {
        "colab": {
          "base_uri": "https://localhost:8080/"
        },
        "id": "RB0SX-sz7vTg",
        "outputId": "e17b28f4-3ea0-4458-bf29-c8d6ccbbb2cf"
      },
      "source": [
        "print(input(\"..> First Name: \"))"
      ],
      "execution_count": 3,
      "outputs": [
        {
          "output_type": "stream",
          "name": "stdout",
          "text": [
            "..> First Name: John\n",
            "John\n"
          ]
        }
      ]
    },
    {
      "cell_type": "code",
      "metadata": {
        "colab": {
          "base_uri": "https://localhost:8080/"
        },
        "id": "9sxoUt7e8BqM",
        "outputId": "e81a6109-efa5-4a15-a0f3-ab2b57be0dab"
      },
      "source": [
        "print(\"Welcome to Name counter\")\n",
        "print(\"Loading program...1%\")\n",
        "print(\".......\")\n",
        "print(\"Program loaded....100%\")\n",
        "f_name = input(\"Enter your first name: \").strip()\n",
        "l_name = input(\"Enter your last name: \").strip()\n",
        "print(\"The first name has {} characters in it\".format(str(len(f_name))))\n",
        "print(\"The last name has {} characters in it\".format(str(len(l_name))))\n"
      ],
      "execution_count": 13,
      "outputs": [
        {
          "output_type": "stream",
          "name": "stdout",
          "text": [
            "Welcome to Name counter\n",
            "Loading program...1%\n",
            ".......\n",
            "Program loaded....100%\n",
            "Enter your first name:  J ohn\n",
            "Enter your last name: Do e\n",
            "The first name has 5 characters in it\n",
            "The last name has 4 characters in it\n"
          ]
        }
      ]
    },
    {
      "cell_type": "code",
      "metadata": {
        "colab": {
          "base_uri": "https://localhost:8080/"
        },
        "id": "QQkNZ43p9nPg",
        "outputId": "b16b513e-8a4b-4a1b-9c5c-c084f4b85edd"
      },
      "source": [
        "x = \" kamal\".strip()\n",
        "print(len(x))"
      ],
      "execution_count": 11,
      "outputs": [
        {
          "output_type": "stream",
          "name": "stdout",
          "text": [
            "5\n"
          ]
        }
      ]
    },
    {
      "cell_type": "code",
      "metadata": {
        "id": "Yz-GALCv-4yC"
      },
      "source": [
        "select f_name from people \n",
        "where f_name == 'John'"
      ],
      "execution_count": null,
      "outputs": []
    },
    {
      "cell_type": "code",
      "metadata": {
        "colab": {
          "base_uri": "https://localhost:8080/"
        },
        "id": "Z-HbyxY6-nKQ",
        "outputId": "c13d0c5f-0f42-4baf-a89f-10f01289bc8d"
      },
      "source": [
        "print(\"Welcome to Name counter\")\n",
        "print(\"Loading program...1%\")\n",
        "print(\".......\")\n",
        "print(\"Program loaded....100%\")\n",
        "f_name = input(\"Enter your first name: \").replace(\" \", \"\")\n",
        "l_name = input(\"Enter your last name: \").replace(\" \", \"\")\n",
        "print(\"The first name has {} characters in it\".format(str(len(f_name))))\n",
        "print(\"The last name has {} characters in it\".format(str(len(l_name))))\n"
      ],
      "execution_count": 14,
      "outputs": [
        {
          "output_type": "stream",
          "name": "stdout",
          "text": [
            "Welcome to Name counter\n",
            "Loading program...1%\n",
            ".......\n",
            "Program loaded....100%\n",
            "Enter your first name: M a th ew \n",
            "Enter your last name: Sim o n\n",
            "The first name has 6 characters in it\n",
            "The last name has 5 characters in it\n"
          ]
        }
      ]
    },
    {
      "cell_type": "code",
      "metadata": {
        "colab": {
          "base_uri": "https://localhost:8080/"
        },
        "id": "UwSa6fHwBq_P",
        "outputId": "65116608-8470-4805-b4ea-0edd5179e992"
      },
      "source": [
        "print(\"John\".split())"
      ],
      "execution_count": 15,
      "outputs": [
        {
          "output_type": "stream",
          "name": "stdout",
          "text": [
            "['John']\n"
          ]
        }
      ]
    },
    {
      "cell_type": "code",
      "metadata": {
        "colab": {
          "base_uri": "https://localhost:8080/"
        },
        "id": "_wY_QiZUB-FH",
        "outputId": "07216f7b-b41e-4cbd-fa4e-f89a25dd489b"
      },
      "source": [
        "txt = \"welcome to the jungle\"\n",
        "\n",
        "x = txt.split()\n",
        "\n",
        "print(x)"
      ],
      "execution_count": 16,
      "outputs": [
        {
          "output_type": "stream",
          "name": "stdout",
          "text": [
            "['welcome', 'to', 'the', 'jungle']\n"
          ]
        }
      ]
    },
    {
      "cell_type": "code",
      "metadata": {
        "colab": {
          "base_uri": "https://localhost:8080/"
        },
        "id": "ed_piKKhCcLB",
        "outputId": "b93b1199-931e-4b48-81c4-7a1aa9cad50a"
      },
      "source": [
        "for i in x:\n",
        "  print(i)"
      ],
      "execution_count": 17,
      "outputs": [
        {
          "output_type": "stream",
          "name": "stdout",
          "text": [
            "welcome\n",
            "to\n",
            "the\n",
            "jungle\n"
          ]
        }
      ]
    },
    {
      "cell_type": "code",
      "metadata": {
        "colab": {
          "base_uri": "https://localhost:8080/"
        },
        "id": "0n8jGw4PCgeJ",
        "outputId": "d9470a16-9457-4e37-9c80-8dde8787b9dd"
      },
      "source": [
        "txt = \"hello, my name is Peter, I am 26 years old\"\n",
        "\n",
        "x = txt.split()\n",
        "\n",
        "print(x)"
      ],
      "execution_count": 21,
      "outputs": [
        {
          "output_type": "stream",
          "name": "stdout",
          "text": [
            "['hello,', 'my', 'name', 'is', 'Peter,', 'I', 'am', '26', 'years', 'old']\n"
          ]
        }
      ]
    },
    {
      "cell_type": "code",
      "metadata": {
        "colab": {
          "base_uri": "https://localhost:8080/"
        },
        "id": "MmeiXz1GDD0U",
        "outputId": "1564adfc-958d-4251-9c25-dd80036a5c26"
      },
      "source": [
        "txt = txt.replace(\",\", \"\")\n",
        "#txt = txt.split()\n",
        "print(txt)"
      ],
      "execution_count": 22,
      "outputs": [
        {
          "output_type": "stream",
          "name": "stdout",
          "text": [
            "hello my name is Peter I am 26 years old\n"
          ]
        }
      ]
    },
    {
      "cell_type": "markdown",
      "metadata": {
        "id": "s0D5SlRcFN2k"
      },
      "source": [
        "<p> Given the names and grades for each student in a class of  students, store them in a nested list and print the name(s) of any student(s) having the second lowest grade. </p>\n",
        "\n",
        "<p> Note: If there are multiple students with the second lowest grade, order their names alphabetically and print each name on a new line. </p>"
      ]
    },
    {
      "cell_type": "code",
      "metadata": {
        "colab": {
          "base_uri": "https://localhost:8080/"
        },
        "id": "3l6g4DP9Dyrl",
        "outputId": "6b79d45b-4f09-43b6-9866-5e0585327423"
      },
      "source": [
        "records = [[\"Mike\", 84], [\"Victor\", 97], [\"John\", 95], [\"Tony\", 95], [\"Bryan\", 87]]\n",
        "score = []\n",
        "for i in records:\n",
        "  score.append(i[1])\n",
        "\n",
        "m_num = min(score) #65\n",
        "while min(score) == m_num: #min(score) = 87 == m_num = 65 false\n",
        "  score.remove(min(score)) #score [ 87, 97]\n",
        "\n",
        "min_score = min(score)\n",
        "lowest_grades = sorted([[i[0], i[1]] for i in records if i[1] == min_score])\n",
        "for i in lowest_grades:\n",
        "  print(i[0])"
      ],
      "execution_count": 28,
      "outputs": [
        {
          "output_type": "stream",
          "name": "stdout",
          "text": [
            "Bryan\n"
          ]
        }
      ]
    },
    {
      "cell_type": "code",
      "metadata": {
        "id": "kPeVQXaRMkbX"
      },
      "source": [
        ""
      ],
      "execution_count": null,
      "outputs": []
    }
  ]
}