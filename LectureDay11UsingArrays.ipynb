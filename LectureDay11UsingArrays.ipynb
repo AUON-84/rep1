{
  "nbformat": 4,
  "nbformat_minor": 0,
  "metadata": {
    "colab": {
      "name": "Using arrays and scalars",
      "provenance": []
    },
    "language_info": {
      "name": "python"
    },
    "kernelspec": {
      "name": "python3",
      "display_name": "Python 3"
    }
  },
  "cells": [
    {
      "cell_type": "code",
      "metadata": {
        "id": "QSHGfnFep-L6"
      },
      "source": [
        "import numpy as np"
      ],
      "execution_count": 1,
      "outputs": []
    },
    {
      "cell_type": "code",
      "metadata": {
        "id": "yKnulWwMp-MI",
        "outputId": "e12bd4b0-6e52-4d3f-afc4-37a16df8c258"
      },
      "source": [
        "5/2"
      ],
      "execution_count": null,
      "outputs": [
        {
          "output_type": "execute_result",
          "data": {},
          "metadata": {},
          "execution_count": 15
        }
      ]
    },
    {
      "cell_type": "code",
      "metadata": {
        "colab": {
          "base_uri": "https://localhost:8080/"
        },
        "id": "6Fm18nx_p-ML",
        "outputId": "3b1ff1ab-c19b-4b50-f5b1-9a466e829a41"
      },
      "source": [
        "# Create array\n",
        "\n",
        "arr1 = np.array([[1,2,3],[8,9,10]])\n",
        "\n",
        "#Show\n",
        "arr1\n"
      ],
      "execution_count": 2,
      "outputs": [
        {
          "output_type": "execute_result",
          "data": {
            "text/plain": [
              "array([[ 1,  2,  3],\n",
              "       [ 8,  9, 10]])"
            ]
          },
          "metadata": {},
          "execution_count": 2
        }
      ]
    },
    {
      "cell_type": "code",
      "metadata": {
        "colab": {
          "base_uri": "https://localhost:8080/"
        },
        "id": "GHXPzu4kp-MM",
        "outputId": "bb782486-62fe-447e-c194-c9de856d372f"
      },
      "source": [
        "#Multiplying Arrays\n",
        "arr1*arr1"
      ],
      "execution_count": 3,
      "outputs": [
        {
          "output_type": "execute_result",
          "data": {
            "text/plain": [
              "array([[  1,   4,   9],\n",
              "       [ 64,  81, 100]])"
            ]
          },
          "metadata": {},
          "execution_count": 3
        }
      ]
    },
    {
      "cell_type": "code",
      "metadata": {
        "colab": {
          "base_uri": "https://localhost:8080/"
        },
        "id": "qHcU39V7p-MN",
        "outputId": "98642168-d469-4924-e221-15a5b3254f31"
      },
      "source": [
        "#Subtraction\n",
        "arr1-arr1"
      ],
      "execution_count": 4,
      "outputs": [
        {
          "output_type": "execute_result",
          "data": {
            "text/plain": [
              "array([[0, 0, 0],\n",
              "       [0, 0, 0]])"
            ]
          },
          "metadata": {},
          "execution_count": 4
        }
      ]
    },
    {
      "cell_type": "code",
      "metadata": {
        "colab": {
          "base_uri": "https://localhost:8080/"
        },
        "id": "L6drTvBxp-MP",
        "outputId": "9fa3056e-7e8b-4179-bc77-defb534816d8"
      },
      "source": [
        "#Arithmetic operations with scalars on array\n",
        "1 / arr1"
      ],
      "execution_count": 5,
      "outputs": [
        {
          "output_type": "execute_result",
          "data": {
            "text/plain": [
              "array([[1.        , 0.5       , 0.33333333],\n",
              "       [0.125     , 0.11111111, 0.1       ]])"
            ]
          },
          "metadata": {},
          "execution_count": 5
        }
      ]
    },
    {
      "cell_type": "code",
      "metadata": {
        "colab": {
          "base_uri": "https://localhost:8080/"
        },
        "id": "Q8KAHCj6p-MS",
        "outputId": "1831aaf5-e68a-4a12-fe41-a5ab1ff6986d"
      },
      "source": [
        "#Exponential operation\n",
        "arr1 ** 3"
      ],
      "execution_count": 6,
      "outputs": [
        {
          "output_type": "execute_result",
          "data": {
            "text/plain": [
              "array([[   1,    8,   27],\n",
              "       [ 512,  729, 1000]])"
            ]
          },
          "metadata": {},
          "execution_count": 6
        }
      ]
    },
    {
      "cell_type": "code",
      "metadata": {
        "colab": {
          "base_uri": "https://localhost:8080/"
        },
        "id": "HTpqe9Qmp-MV",
        "outputId": "c543defa-702a-4d03-8dbf-480ad39e1b7e"
      },
      "source": [
        "obj1 = [[1,2,3], [2,3,4]]\n",
        "obj2 = [[1,2], [2,3], [3, 4]]\n",
        "arr2 = np.array(obj1)\n",
        "arr3 = np.array(obj2)\n",
        "print(arr2.ndim)\n",
        "print(arr3.ndim)\n",
        "print(arr2.shape)\n",
        "print(arr3.shape)"
      ],
      "execution_count": 12,
      "outputs": [
        {
          "output_type": "stream",
          "name": "stdout",
          "text": [
            "2\n",
            "2\n",
            "(2, 3)\n",
            "(3, 2)\n"
          ]
        }
      ]
    },
    {
      "cell_type": "code",
      "metadata": {
        "colab": {
          "base_uri": "https://localhost:8080/",
          "height": 36
        },
        "id": "y20uAjferqDA",
        "outputId": "f5b3eb22-06e1-416a-e05a-3837d227fbf3"
      },
      "source": [
        "\"\"\"\n",
        "same dimentional array but different shape cannot be multiplied unless reshaped to a corresponding shape size of both arrays being multiplied together.\n",
        "\"\"\"\n",
        "#arr2 * arr3"
      ],
      "execution_count": 35,
      "outputs": [
        {
          "output_type": "execute_result",
          "data": {
            "application/vnd.google.colaboratory.intrinsic+json": {
              "type": "string"
            },
            "text/plain": [
              "'\\nsame dimentional array but different shape cannot be multiplied unless reshaped to a corresponding shape size of both arrays being multiplied together.\\n'"
            ]
          },
          "metadata": {},
          "execution_count": 35
        }
      ]
    },
    {
      "cell_type": "code",
      "metadata": {
        "id": "UbBqnpBvun5e"
      },
      "source": [
        "arr4 = arr3.reshape((1, 2, 3))"
      ],
      "execution_count": 16,
      "outputs": []
    },
    {
      "cell_type": "code",
      "metadata": {
        "id": "88cyGCq8vL3O"
      },
      "source": [
        "arr5 = np.concatenate((arr4, np.array([[[2,3,4],[4,5,3]]])), axis=1)"
      ],
      "execution_count": 31,
      "outputs": []
    },
    {
      "cell_type": "code",
      "metadata": {
        "colab": {
          "base_uri": "https://localhost:8080/"
        },
        "id": "B1Of-duLxLQx",
        "outputId": "f44e82a2-b117-4a56-8be6-7237a95ccc28"
      },
      "source": [
        "arr5"
      ],
      "execution_count": 34,
      "outputs": [
        {
          "output_type": "execute_result",
          "data": {
            "text/plain": [
              "array([[[1, 2, 2],\n",
              "        [3, 3, 4],\n",
              "        [2, 3, 4],\n",
              "        [4, 5, 3]]])"
            ]
          },
          "metadata": {},
          "execution_count": 34
        }
      ]
    },
    {
      "cell_type": "code",
      "metadata": {
        "id": "Q8QeHoj7xmeN"
      },
      "source": [
        "arr6 = np.array([[3,4], [4,6]])\n",
        "arr7 = np.array([[4,9], [0,8]])"
      ],
      "execution_count": 22,
      "outputs": []
    },
    {
      "cell_type": "code",
      "metadata": {
        "colab": {
          "base_uri": "https://localhost:8080/"
        },
        "id": "LQOdrOlVyVVD",
        "outputId": "d2f912dc-64df-4d5d-97b8-d159fc06c3f8"
      },
      "source": [
        "print(arr6)\n",
        "print(arr7)"
      ],
      "execution_count": 23,
      "outputs": [
        {
          "output_type": "stream",
          "name": "stdout",
          "text": [
            "[[3 4]\n",
            " [4 6]]\n",
            "[[4 9]\n",
            " [0 8]]\n"
          ]
        }
      ]
    },
    {
      "cell_type": "code",
      "metadata": {
        "id": "VP-CaTZ-yZxz"
      },
      "source": [
        "arr8 = np.concatenate((arr6, arr7), axis=1)"
      ],
      "execution_count": 37,
      "outputs": []
    },
    {
      "cell_type": "code",
      "metadata": {
        "colab": {
          "base_uri": "https://localhost:8080/"
        },
        "id": "8avYnN0-yi6M",
        "outputId": "64a29bb1-d7de-4b4f-b709-8352d910d501"
      },
      "source": [
        "arr8"
      ],
      "execution_count": 40,
      "outputs": [
        {
          "output_type": "execute_result",
          "data": {
            "text/plain": [
              "array([[3, 4, 4, 9],\n",
              "       [4, 6, 0, 8]])"
            ]
          },
          "metadata": {},
          "execution_count": 40
        }
      ]
    },
    {
      "cell_type": "code",
      "metadata": {
        "colab": {
          "base_uri": "https://localhost:8080/"
        },
        "id": "IuJsjKJd0ohs",
        "outputId": "8d1044e4-727f-4ded-b71c-90b1f3499633"
      },
      "source": [
        "arr8[0:1,0:3]"
      ],
      "execution_count": 41,
      "outputs": [
        {
          "output_type": "execute_result",
          "data": {
            "text/plain": [
              "array([[3, 4, 4]])"
            ]
          },
          "metadata": {},
          "execution_count": 41
        }
      ]
    },
    {
      "cell_type": "code",
      "metadata": {
        "colab": {
          "base_uri": "https://localhost:8080/"
        },
        "id": "zOYKx4bU1LNM",
        "outputId": "2c3bdd58-82ee-416c-8b9a-c004903ce299"
      },
      "source": [
        "arr8[:, 0:3]"
      ],
      "execution_count": 42,
      "outputs": [
        {
          "output_type": "execute_result",
          "data": {
            "text/plain": [
              "array([[3, 4, 4],\n",
              "       [4, 6, 0]])"
            ]
          },
          "metadata": {},
          "execution_count": 42
        }
      ]
    },
    {
      "cell_type": "code",
      "metadata": {
        "id": "LCKQjw-R1ipx"
      },
      "source": [
        ""
      ],
      "execution_count": null,
      "outputs": []
    }
  ]
}